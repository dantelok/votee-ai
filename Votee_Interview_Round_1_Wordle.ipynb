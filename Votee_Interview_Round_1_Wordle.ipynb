{
  "nbformat": 4,
  "nbformat_minor": 0,
  "metadata": {
    "colab": {
      "provenance": []
    },
    "kernelspec": {
      "name": "python3",
      "display_name": "Python 3"
    },
    "language_info": {
      "name": "python"
    }
  },
  "cells": [
    {
      "cell_type": "markdown",
      "source": [
        "Your task is to write a program that automatically guesses random words. You may use any frameworks, IDEs, chatbots, LLMs, or other resources to write your program and showcase your skills. However, if you reference other open-source projects or tutorials, please give proper credit. Plagiarism will not be tolerated and may affect your evaluation."
      ],
      "metadata": {
        "id": "03RbPSr_UTwP"
      }
    },
    {
      "cell_type": "code",
      "execution_count": 3,
      "metadata": {
        "colab": {
          "base_uri": "https://localhost:8080/"
        },
        "id": "fy6IDEiiUJNG",
        "outputId": "ff77f44f-8e76-44dd-b44b-126355714e9e"
      },
      "outputs": [
        {
          "output_type": "execute_result",
          "data": {
            "text/plain": [
              "[{'slot': 0, 'guess': 'g', 'result': 'absent'},\n",
              " {'slot': 1, 'guess': 'u', 'result': 'absent'},\n",
              " {'slot': 2, 'guess': 'e', 'result': 'present'},\n",
              " {'slot': 3, 'guess': 's', 'result': 'absent'},\n",
              " {'slot': 4, 'guess': 's', 'result': 'absent'}]"
            ]
          },
          "metadata": {},
          "execution_count": 3
        }
      ],
      "source": [
        "import requests\n",
        "\n",
        "guess = \"guess\"\n",
        "\n",
        "response = requests.get(\"https://wordle.votee.dev:8000/daily\", params = {\"guess\": guess, \"size\": 5})\n",
        "\n",
        "response.json()"
      ]
    },
    {
      "cell_type": "code",
      "source": [
        "def daily_guess(guess):\n",
        "    # response = requests.get(\"https://wordle.votee.dev:8000/daily\", params = {\"guess\": guess, \"size\": 5})\n",
        "    response = requests.get(\"https://wordle.votee.dev:8000/random\", params = {\"guess\": guess, \"size\": 5, \"seed\": 42})\n",
        "    # response = requests.get(\"https://wordle.votee.dev:8000/word/dante\", params = {\"guess\": guess, \"size\": 5})\n",
        "    return response.json()"
      ],
      "metadata": {
        "id": "7pciAi9rYB3d"
      },
      "execution_count": 46,
      "outputs": []
    },
    {
      "cell_type": "markdown",
      "source": [
        "Get random guess with size 5"
      ],
      "metadata": {
        "id": "4EV2FHhTXbaB"
      }
    },
    {
      "cell_type": "code",
      "source": [
        "# # list of letters\n",
        "# letter_list = list('qwertyuiopasdfghjklzxcvbnm')\n",
        "\n",
        "# guess = ''.join(random.choices(letter_list, k=5))\n",
        "# guess"
      ],
      "metadata": {
        "colab": {
          "base_uri": "https://localhost:8080/"
        },
        "id": "vbkAYfM6UUP2",
        "outputId": "52a496bb-227b-4954-eb0a-c74da5426dc4"
      },
      "execution_count": 7,
      "outputs": [
        {
          "output_type": "execute_result",
          "data": {
            "text/plain": [
              "26"
            ]
          },
          "metadata": {},
          "execution_count": 7
        }
      ]
    },
    {
      "cell_type": "code",
      "source": [
        "import random\n",
        "\n",
        "letter_list = list('qwertyuiopasdfghjklzxcvbnm')\n",
        "\n",
        "def generate_random_guess():\n",
        "    guess = ''.join(random.choices(letter_list, k=5))\n",
        "    return guess"
      ],
      "metadata": {
        "id": "ZzRB597HW164"
      },
      "execution_count": 28,
      "outputs": []
    },
    {
      "cell_type": "code",
      "source": [
        "# guess = generate_random_guess()\n",
        "# guess"
      ],
      "metadata": {
        "colab": {
          "base_uri": "https://localhost:8080/",
          "height": 35
        },
        "id": "L6XWHSv6X4F1",
        "outputId": "25c106c4-7bb5-47ce-949b-185c7fc27fa5"
      },
      "execution_count": 22,
      "outputs": [
        {
          "output_type": "execute_result",
          "data": {
            "text/plain": [
              "'nbwgh'"
            ],
            "application/vnd.google.colaboratory.intrinsic+json": {
              "type": "string"
            }
          },
          "metadata": {},
          "execution_count": 22
        }
      ]
    },
    {
      "cell_type": "code",
      "source": [
        "# guess = generate_random_guess()\n",
        "\n",
        "# res = daily_guess(guess)\n",
        "\n",
        "# res"
      ],
      "metadata": {
        "colab": {
          "base_uri": "https://localhost:8080/"
        },
        "id": "HDwOJkd1YRAq",
        "outputId": "e6bcd1eb-4c61-4e8e-e616-f8276b9ea341"
      },
      "execution_count": 25,
      "outputs": [
        {
          "output_type": "execute_result",
          "data": {
            "text/plain": [
              "[{'slot': 0, 'guess': 'm', 'result': 'absent'},\n",
              " {'slot': 1, 'guess': 'f', 'result': 'absent'},\n",
              " {'slot': 2, 'guess': 'y', 'result': 'absent'},\n",
              " {'slot': 3, 'guess': 'v', 'result': 'correct'},\n",
              " {'slot': 4, 'guess': 'w', 'result': 'absent'}]"
            ]
          },
          "metadata": {},
          "execution_count": 25
        }
      ]
    },
    {
      "cell_type": "markdown",
      "source": [
        "Steps:\n",
        "\n",
        "* 'absent' -> remove\n",
        "* 'present' -> keep & move\n",
        "* 'correct' -> keep & not move"
      ],
      "metadata": {
        "id": "Mx6gc__nWU8u"
      }
    },
    {
      "cell_type": "code",
      "source": [
        "wrong_position = {i:[] for i in range(5)}\n",
        "wrong_position"
      ],
      "metadata": {
        "colab": {
          "base_uri": "https://localhost:8080/"
        },
        "id": "R16qCe39azbx",
        "outputId": "7d652340-f485-4620-db58-ee26eaa4aac0"
      },
      "execution_count": 27,
      "outputs": [
        {
          "output_type": "execute_result",
          "data": {
            "text/plain": [
              "{0: [], 1: [], 2: [], 3: [], 4: []}"
            ]
          },
          "metadata": {},
          "execution_count": 27
        }
      ]
    },
    {
      "cell_type": "code",
      "source": [
        "guess = generate_random_guess()\n",
        "attempt = 0\n",
        "used_letter = []\n",
        "misplaced_letter = set()\n",
        "wrong_position = {i: set() for i in range(5)}\n",
        "correct_letter = [\"\"] * 5\n",
        "\n",
        "while True:\n",
        "    attempt += 1\n",
        "    res = daily_guess(guess)\n",
        "\n",
        "    print(f\"Attempt: {attempt}; Guess: {guess}; Results: {res}\")\n",
        "\n",
        "    if all(status['result'] == 'correct' for status in res):\n",
        "        print(f\"Bingo! The word is: {guess}\")\n",
        "        break\n",
        "\n",
        "    for i, status in enumerate(res):\n",
        "        if status['result'] == 'correct':\n",
        "            correct_letter[i] = status['guess']\n",
        "\n",
        "        elif status['result'] == 'present':\n",
        "            misplaced_letter.add(status['guess'])  # Use this again\n",
        "            wrong_position[i].add(status['guess'])  # Avoid this position\n",
        "\n",
        "        elif status['result'] == 'absent':\n",
        "            used_letter.append(status['guess'])\n",
        "\n",
        "    # New guess\n",
        "    guess = \"\"\n",
        "    for i in range(5):\n",
        "        if correct_letter[i] != \"\":\n",
        "            guess += correct_letter[i]\n",
        "        else:\n",
        "            valid_letters = [letter for letter in letter_list if letter not in used_letter]\n",
        "            guess += random.choice(valid_letters)\n",
        "\n",
        "    # mfyvw -> abcvw -> misplaced_letter = ['y'] -> 0 3 4\n",
        "    # Place misplaced letter into new guess\n",
        "    for letter in misplaced_letter:\n",
        "        possible_positions = []\n",
        "        for i in range(5):\n",
        "            if letter not in wrong_position[i] and correct_letter[i] == \"\":\n",
        "                possible_positions.append(i)\n",
        "\n",
        "        if possible_positions:\n",
        "            random_position = random.choice(possible_positions)\n",
        "            guess = guess[:random_position] + letter + guess[random_position + 1:]\n",
        "\n",
        "    # print(f\"New guess: {guess}\")"
      ],
      "metadata": {
        "colab": {
          "base_uri": "https://localhost:8080/"
        },
        "id": "Jj7on95YXGKp",
        "outputId": "7581c618-4f5c-4b95-8558-9cf1d4f13493"
      },
      "execution_count": 47,
      "outputs": [
        {
          "output_type": "stream",
          "name": "stdout",
          "text": [
            "Attempt: 1; Guess: jyovw; Results: [{'slot': 0, 'guess': 'j', 'result': 'absent'}, {'slot': 1, 'guess': 'y', 'result': 'absent'}, {'slot': 2, 'guess': 'o', 'result': 'correct'}, {'slot': 3, 'guess': 'v', 'result': 'absent'}, {'slot': 4, 'guess': 'w', 'result': 'present'}]\n",
            "Attempt: 2; Guess: icoww; Results: [{'slot': 0, 'guess': 'i', 'result': 'absent'}, {'slot': 1, 'guess': 'c', 'result': 'absent'}, {'slot': 2, 'guess': 'o', 'result': 'correct'}, {'slot': 3, 'guess': 'w', 'result': 'present'}, {'slot': 4, 'guess': 'w', 'result': 'present'}]\n",
            "Attempt: 3; Guess: wposq; Results: [{'slot': 0, 'guess': 'w', 'result': 'correct'}, {'slot': 1, 'guess': 'p', 'result': 'absent'}, {'slot': 2, 'guess': 'o', 'result': 'correct'}, {'slot': 3, 'guess': 's', 'result': 'absent'}, {'slot': 4, 'guess': 'q', 'result': 'absent'}]\n",
            "Attempt: 4; Guess: wwoea; Results: [{'slot': 0, 'guess': 'w', 'result': 'correct'}, {'slot': 1, 'guess': 'w', 'result': 'present'}, {'slot': 2, 'guess': 'o', 'result': 'correct'}, {'slot': 3, 'guess': 'e', 'result': 'present'}, {'slot': 4, 'guess': 'a', 'result': 'absent'}]\n",
            "Attempt: 5; Guess: weozb; Results: [{'slot': 0, 'guess': 'w', 'result': 'correct'}, {'slot': 1, 'guess': 'e', 'result': 'present'}, {'slot': 2, 'guess': 'o', 'result': 'correct'}, {'slot': 3, 'guess': 'z', 'result': 'absent'}, {'slot': 4, 'guess': 'b', 'result': 'absent'}]\n",
            "Attempt: 6; Guess: wmode; Results: [{'slot': 0, 'guess': 'w', 'result': 'correct'}, {'slot': 1, 'guess': 'm', 'result': 'absent'}, {'slot': 2, 'guess': 'o', 'result': 'correct'}, {'slot': 3, 'guess': 'd', 'result': 'absent'}, {'slot': 4, 'guess': 'e', 'result': 'correct'}]\n",
            "Attempt: 7; Guess: whole; Results: [{'slot': 0, 'guess': 'w', 'result': 'correct'}, {'slot': 1, 'guess': 'h', 'result': 'absent'}, {'slot': 2, 'guess': 'o', 'result': 'correct'}, {'slot': 3, 'guess': 'l', 'result': 'absent'}, {'slot': 4, 'guess': 'e', 'result': 'correct'}]\n",
            "Attempt: 8; Guess: wuoee; Results: [{'slot': 0, 'guess': 'w', 'result': 'correct'}, {'slot': 1, 'guess': 'u', 'result': 'absent'}, {'slot': 2, 'guess': 'o', 'result': 'correct'}, {'slot': 3, 'guess': 'e', 'result': 'present'}, {'slot': 4, 'guess': 'e', 'result': 'correct'}]\n",
            "Attempt: 9; Guess: woore; Results: [{'slot': 0, 'guess': 'w', 'result': 'correct'}, {'slot': 1, 'guess': 'o', 'result': 'present'}, {'slot': 2, 'guess': 'o', 'result': 'correct'}, {'slot': 3, 'guess': 'r', 'result': 'present'}, {'slot': 4, 'guess': 'e', 'result': 'correct'}]\n",
            "Attempt: 10; Guess: wrooe; Results: [{'slot': 0, 'guess': 'w', 'result': 'correct'}, {'slot': 1, 'guess': 'r', 'result': 'correct'}, {'slot': 2, 'guess': 'o', 'result': 'correct'}, {'slot': 3, 'guess': 'o', 'result': 'present'}, {'slot': 4, 'guess': 'e', 'result': 'correct'}]\n",
            "Attempt: 11; Guess: wrote; Results: [{'slot': 0, 'guess': 'w', 'result': 'correct'}, {'slot': 1, 'guess': 'r', 'result': 'correct'}, {'slot': 2, 'guess': 'o', 'result': 'correct'}, {'slot': 3, 'guess': 't', 'result': 'correct'}, {'slot': 4, 'guess': 'e', 'result': 'correct'}]\n",
            "Bingo! The word is: wrote\n"
          ]
        }
      ]
    },
    {
      "cell_type": "code",
      "source": [],
      "metadata": {
        "id": "XjhZ5Lv0eO-F"
      },
      "execution_count": null,
      "outputs": []
    }
  ]
}